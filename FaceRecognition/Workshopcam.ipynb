{
 "cells": [
  {
   "cell_type": "code",
   "execution_count": 2,
   "id": "9a6bbc58",
   "metadata": {},
   "outputs": [
    {
     "name": "stdout",
     "output_type": "stream",
     "text": [
      "Starting face detection with predictions. Press 'q' to quit.\n"
     ]
    }
   ],
   "source": [
    "import cv2\n",
    "import numpy as np\n",
    "import pickle\n",
    "from sklearn.base import BaseEstimator, TransformerMixin\n",
    "\n",
    "# Define the MeanCentering class\n",
    "class MeanCentering(BaseEstimator, TransformerMixin):\n",
    "    def fit(self, X, y=None):\n",
    "        self.mean_face = np.mean(X, axis=0)\n",
    "        return self\n",
    "\n",
    "    def transform(self, X):\n",
    "        return X - self.mean_face\n",
    "\n",
    "# Load the pre-trained Haar Cascade Classifier for face detection\n",
    "face_cascade = cv2.CascadeClassifier(cv2.data.haarcascades + 'haarcascade_frontalface_default.xml')\n",
    "\n",
    "# Load the trained Eigenface model\n",
    "with open('eigenface_pipeline.pkl', 'rb') as f:\n",
    "    pipe = pickle.load(f)\n",
    "\n",
    "# Function to detect faces in a frame\n",
    "def detect_faces(frame):\n",
    "    gray = cv2.cvtColor(frame, cv2.COLOR_BGR2GRAY)  # Convert to grayscale\n",
    "    faces = face_cascade.detectMultiScale(gray, scaleFactor=1.1, minNeighbors=5, minSize=(30, 30))\n",
    "    return faces, gray\n",
    "\n",
    "# Function to predict the label for a cropped face\n",
    "def predict_label(face):\n",
    "    face_resized = cv2.resize(face, (128, 128))  # Resize to match the training size\n",
    "    face_flattened = face_resized.flatten().reshape(1, -1)  # Flatten and reshape for prediction\n",
    "    label = pipe.predict(face_flattened)[0]  # Predict the label\n",
    "    return label\n",
    "\n",
    "# Initialize the camera\n",
    "camera = cv2.VideoCapture(0)\n",
    "\n",
    "print(\"Starting face detection with predictions. Press 'q' to quit.\")\n",
    "while True:\n",
    "    ret, frame = camera.read()\n",
    "    if not ret:\n",
    "        break\n",
    "\n",
    "    # Detect faces in the frame\n",
    "    faces, gray = detect_faces(frame)\n",
    "\n",
    "    # Draw rectangles around detected faces and add predicted labels\n",
    "    for (x, y, w, h) in faces:\n",
    "        face = gray[y:y+h, x:x+w]  # Crop the face\n",
    "        label = predict_label(face)  # Predict the label using the Eigenface model\n",
    "        cv2.rectangle(frame, (x, y), (x + w, y + h), (0, 255, 0), 3)  # Green box with thickness 3\n",
    "        cv2.putText(frame, label, (x, y - 10), cv2.FONT_HERSHEY_SIMPLEX, 0.8, (0, 255, 0), 2)  # Add label above the box\n",
    "\n",
    "    # Display the frame with detected faces and labels\n",
    "    cv2.imshow(\"Face Detection with Predictions\", frame)\n",
    "\n",
    "    # Exit the loop when 'q' is pressed\n",
    "    key = cv2.waitKey(1)\n",
    "    if key == ord('q'):\n",
    "        break\n",
    "\n",
    "# Release the camera and close all windows\n",
    "camera.release()\n",
    "cv2.destroyAllWindows()"
   ]
  }
 ],
 "metadata": {
  "kernelspec": {
   "display_name": "Python 3",
   "language": "python",
   "name": "python3"
  },
  "language_info": {
   "codemirror_mode": {
    "name": "ipython",
    "version": 3
   },
   "file_extension": ".py",
   "mimetype": "text/x-python",
   "name": "python",
   "nbconvert_exporter": "python",
   "pygments_lexer": "ipython3",
   "version": "3.13.2"
  }
 },
 "nbformat": 4,
 "nbformat_minor": 5
}
